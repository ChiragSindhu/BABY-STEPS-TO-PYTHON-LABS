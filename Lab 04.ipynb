{
 "cells": [
  {
   "cell_type": "code",
   "execution_count": 1,
   "metadata": {},
   "outputs": [],
   "source": [
    "# Write a program to create tuple\n",
    "\n",
    "a = ('abc', 'bcd', 'xyz')"
   ]
  },
  {
   "cell_type": "code",
   "execution_count": 2,
   "metadata": {},
   "outputs": [],
   "source": [
    "# Write a program to create tuple with different data types\n",
    "\n",
    "a = ('abc', 12, 7.8985)"
   ]
  },
  {
   "cell_type": "code",
   "execution_count": 3,
   "metadata": {},
   "outputs": [
    {
     "name": "stdout",
     "output_type": "stream",
     "text": [
      "(2, 12, 7, 5)\n"
     ]
    }
   ],
   "source": [
    "# Write a program to create tuple with numbers and print it\n",
    "\n",
    "a = (2, 12, 7, 5)\n",
    "\n",
    "print(a)"
   ]
  },
  {
   "cell_type": "code",
   "execution_count": 4,
   "metadata": {},
   "outputs": [
    {
     "name": "stdout",
     "output_type": "stream",
     "text": [
      "a\n",
      "b\n"
     ]
    }
   ],
   "source": [
    "# Write a Python program to unpack a tuple in several variables.\n",
    "\n",
    "my_tuple = ('a', 'b')\n",
    "var1, var2 = my_tuple\n",
    "\n",
    "print(var1)\n",
    "print(var2)"
   ]
  },
  {
   "cell_type": "code",
   "execution_count": 5,
   "metadata": {},
   "outputs": [
    {
     "name": "stdout",
     "output_type": "stream",
     "text": [
      "('a', 'b', 'c')\n"
     ]
    }
   ],
   "source": [
    "# Write a Python program to add an item in a tuple.\n",
    "\n",
    "my_tuple = ('a', 'b')\n",
    "my_new_tuple = my_tuple + ('c',)\n",
    "\n",
    "print(my_new_tuple)"
   ]
  },
  {
   "cell_type": "code",
   "execution_count": 6,
   "metadata": {},
   "outputs": [
    {
     "name": "stdout",
     "output_type": "stream",
     "text": [
      "ab\n"
     ]
    }
   ],
   "source": [
    "# Write a Python program to convert a tuple to a string.\n",
    "\n",
    "my_tuple = ('a', 'b')\n",
    "my_string = ''.join(my_tuple)\n",
    "print(my_string)"
   ]
  },
  {
   "cell_type": "code",
   "execution_count": 7,
   "metadata": {},
   "outputs": [
    {
     "name": "stdout",
     "output_type": "stream",
     "text": [
      "('a', 'b', 'c', 'd', 'e', 'f', 'g', 'h')\n",
      "4th element is d\n",
      "4th to last element is e\n"
     ]
    }
   ],
   "source": [
    "# Write a Python program to get the 4th element\n",
    "\n",
    "my_tuple = tuple('abcdefgh')\n",
    "print(my_tuple)\n",
    "print('4th element is', my_tuple[3])\n",
    "print('4th to last element is', my_tuple[-4]) "
   ]
  },
  {
   "cell_type": "code",
   "execution_count": 8,
   "metadata": {},
   "outputs": [
    {
     "name": "stdout",
     "output_type": "stream",
     "text": [
      ":\n"
     ]
    }
   ],
   "source": [
    "# Write a Python program to create the colon of a tuple.\n",
    "\n",
    "my_tuple = (':',)\n",
    "my_colon, = my_tuple\n",
    "print(my_colon)"
   ]
  },
  {
   "cell_type": "code",
   "execution_count": 9,
   "metadata": {},
   "outputs": [
    {
     "name": "stdout",
     "output_type": "stream",
     "text": [
      "{1, 4}\n"
     ]
    }
   ],
   "source": [
    "# Write a Python program to find the repeated items of a tuple.\n",
    "\n",
    "my_tuple = (1, 1, 2, 3, 4, 4, 5)\n",
    "\n",
    "repeated_items = []\n",
    "for i in my_tuple:\n",
    "    if my_tuple.count(i) > 1:\n",
    "        repeated_items.append(i)\n",
    "print(set(repeated_items))"
   ]
  },
  {
   "cell_type": "code",
   "execution_count": 10,
   "metadata": {},
   "outputs": [
    {
     "name": "stdout",
     "output_type": "stream",
     "text": [
      "2 is in (1, 2, 3, 4, 5)\n",
      "6 is NOT in (1, 2, 3, 4, 5)\n"
     ]
    }
   ],
   "source": [
    "# Write a Python program to check whether an element exists within a tuple.\n",
    "\n",
    "my_tuple = (1, 2, 3, 4, 5)\n",
    "\n",
    "if 2 in my_tuple:\n",
    "    print('2 is in', my_tuple)\n",
    "else:\n",
    "    print('2 is NOT in', my_tuple)\n",
    "\n",
    "if 6 in my_tuple:\n",
    "    print('6 is in', my_tuple)\n",
    "else:\n",
    "    print('6 is NOT in', my_tuple)"
   ]
  },
  {
   "cell_type": "code",
   "execution_count": 11,
   "metadata": {},
   "outputs": [
    {
     "name": "stdout",
     "output_type": "stream",
     "text": [
      "(1, 2, 3, 4, 5)\n"
     ]
    }
   ],
   "source": [
    "# Write a Python program to convert a list to a tuple.\n",
    "\n",
    "my_list = [1, 2, 3, 4, 5]\n",
    "my_tuple = tuple(my_list)\n",
    "print(my_tuple)"
   ]
  },
  {
   "cell_type": "code",
   "execution_count": 12,
   "metadata": {},
   "outputs": [
    {
     "name": "stdout",
     "output_type": "stream",
     "text": [
      "(1, 2, 4, 5)\n"
     ]
    }
   ],
   "source": [
    "# Write a Python program to remove an item from a tuple.\n",
    "\n",
    "my_tuple = (1, 2, 3, 4, 5)\n",
    "# to remove number 3\n",
    "my_new_tuple = my_tuple[:my_tuple.index(3)] + my_tuple[my_tuple.index(3)+1:]\n",
    "print(my_new_tuple)"
   ]
  },
  {
   "cell_type": "code",
   "execution_count": 13,
   "metadata": {},
   "outputs": [
    {
     "name": "stdout",
     "output_type": "stream",
     "text": [
      "('a', 'b', 'c')\n"
     ]
    }
   ],
   "source": [
    "# Write a Python program to slice a tuple.\n",
    "\n",
    "my_tuple = tuple('axbxcx')\n",
    "\n",
    "print(my_tuple[::2])"
   ]
  },
  {
   "cell_type": "code",
   "execution_count": 14,
   "metadata": {},
   "outputs": [
    {
     "name": "stdout",
     "output_type": "stream",
     "text": [
      "0\n"
     ]
    }
   ],
   "source": [
    "# Write a Python program to find the index of an item of a tuple.\n",
    "\n",
    "my_tuple = ('a', 'b')\n",
    "print(my_tuple.index('a'))"
   ]
  },
  {
   "cell_type": "code",
   "execution_count": 15,
   "metadata": {},
   "outputs": [
    {
     "name": "stdout",
     "output_type": "stream",
     "text": [
      "2\n"
     ]
    }
   ],
   "source": [
    "# Write a Python program to find the length of a tuple.\n",
    "\n",
    "my_tuple = ('a', 'b')\n",
    "print(len(my_tuple))"
   ]
  },
  {
   "cell_type": "code",
   "execution_count": 16,
   "metadata": {},
   "outputs": [
    {
     "name": "stdout",
     "output_type": "stream",
     "text": [
      "(2, 'b', 1, 'a')\n"
     ]
    }
   ],
   "source": [
    "# Write a Python program to reverse a tuple\n",
    "\n",
    "my_tuple = ('a', 1, 'b', 2)\n",
    "\n",
    "y = list(my_tuple)\n",
    "i = 0\n",
    "j =  len(my_tuple) - 1\n",
    "\n",
    "while j > i:\n",
    "    temp = y[i]\n",
    "    y[i] = y[j]\n",
    "    y[j] = temp\n",
    "    \n",
    "    i += 1\n",
    "    j -= 1\n",
    "    \n",
    "my_tuple = tuple(y)\n",
    "print(my_tuple)"
   ]
  }
 ],
 "metadata": {
  "kernelspec": {
   "display_name": "Python 3",
   "language": "python",
   "name": "python3"
  },
  "language_info": {
   "codemirror_mode": {
    "name": "ipython",
    "version": 3
   },
   "file_extension": ".py",
   "mimetype": "text/x-python",
   "name": "python",
   "nbconvert_exporter": "python",
   "pygments_lexer": "ipython3",
   "version": "3.8.5"
  }
 },
 "nbformat": 4,
 "nbformat_minor": 4
}
