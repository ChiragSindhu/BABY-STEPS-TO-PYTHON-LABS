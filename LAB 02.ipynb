{
 "cells": [
  {
   "cell_type": "code",
   "execution_count": 1,
   "metadata": {},
   "outputs": [
    {
     "name": "stdout",
     "output_type": "stream",
     "text": [
      "10 is an even number.\n"
     ]
    }
   ],
   "source": [
    "# To check if a number is even or odd\n",
    "x = 10\n",
    "\n",
    "if x % 2 == 0:\n",
    "    print(str(x) + \" is an even number.\")\n",
    "else:\n",
    "    print(str(x) + \" is an odd number.\")"
   ]
  },
  {
   "cell_type": "code",
   "execution_count": 2,
   "metadata": {},
   "outputs": [
    {
     "name": "stdout",
     "output_type": "stream",
     "text": [
      "1900 is not a leap year.\n"
     ]
    }
   ],
   "source": [
    "# To check if a given year is leap year\n",
    "year = 1900\n",
    "\n",
    "if year % 400 == 0:\n",
    "    print(str(year) + \" is a leap year.\")\n",
    "else:\n",
    "    if year % 100 == 0:\n",
    "        print(str(year) + \" is not a leap year.\")\n",
    "    elif year % 4 == 0:\n",
    "        print(str(year) + \" is a leap year.\")\n",
    "    else:\n",
    "        print(str(year) + \" is not a leap year.\")\n"
   ]
  },
  {
   "cell_type": "code",
   "execution_count": 3,
   "metadata": {},
   "outputs": [
    {
     "name": "stdout",
     "output_type": "stream",
     "text": [
      "c is a consonant\n"
     ]
    }
   ],
   "source": [
    "# To check if a char is consonant or vowel\n",
    "char = 'C'\n",
    "\n",
    "if char.isupper():\n",
    "    char = char.lower()\n",
    "\n",
    "if char == 'a':\n",
    "    print(char + \" is a vowel\")\n",
    "elif char == 'e':\n",
    "    print(char + \" is a vowel\")\n",
    "elif char == 'i':\n",
    "    print(char + \" is a vowel\")\n",
    "elif char == 'o':\n",
    "    print(char + \" is a vowel\")\n",
    "elif char == 'u':\n",
    "    print(char + \" is a vowel\")\n",
    "else:\n",
    "    print(char + \" is a consonant\")\n"
   ]
  },
  {
   "cell_type": "code",
   "execution_count": 4,
   "metadata": {},
   "outputs": [
    {
     "name": "stdout",
     "output_type": "stream",
     "text": [
      "120 is greater than 10\n"
     ]
    }
   ],
   "source": [
    "# To check which number is greater between two number\n",
    "f_num = 120\n",
    "s_num = 10\n",
    "\n",
    "if f_num > s_num:\n",
    "    print(str(f_num) + \" is greater than \" + str(s_num))\n",
    "elif f_num == s_num:\n",
    "    print(str(f_num) + \" is equal to \" + str(s_num))\n",
    "else:\n",
    "    print(str(f_num) + \" is less than \" + str(s_num))"
   ]
  },
  {
   "cell_type": "code",
   "execution_count": 5,
   "metadata": {},
   "outputs": [
    {
     "name": "stdout",
     "output_type": "stream",
     "text": [
      "120\n"
     ]
    }
   ],
   "source": [
    "# To find the factorial of the number\n",
    "num = 5\n",
    "factorial = 1\n",
    "\n",
    "for i in range(1,num + 1):\n",
    "    factorial *=  i\n",
    "\n",
    "print(factorial)"
   ]
  },
  {
   "cell_type": "code",
   "execution_count": 6,
   "metadata": {},
   "outputs": [
    {
     "name": "stdout",
     "output_type": "stream",
     "text": [
      "    *  \n",
      "   * *  \n",
      "  * * * \n",
      " * * * * \n"
     ]
    }
   ],
   "source": [
    "# Write a program to print a pattern\n",
    "\n",
    "print(\"    *  \")\n",
    "print(\"   * *  \")\n",
    "print(\"  * * * \")\n",
    "print(\" * * * * \")"
   ]
  },
  {
   "cell_type": "code",
   "execution_count": 7,
   "metadata": {},
   "outputs": [
    {
     "name": "stdout",
     "output_type": "stream",
     "text": [
      "1\n",
      "1\n",
      "2\n",
      "3\n",
      "5\n",
      "8\n",
      "13\n",
      "21\n"
     ]
    }
   ],
   "source": [
    "# Write a program to print a series\n",
    "\n",
    "x = 0\n",
    "y = 1\n",
    "\n",
    "for i in range(8):\n",
    "    print(y)\n",
    "    temp_x = x\n",
    "    x = y\n",
    "    y = temp_x + y"
   ]
  },
  {
   "cell_type": "code",
   "execution_count": 15,
   "metadata": {},
   "outputs": [
    {
     "name": "stdout",
     "output_type": "stream",
     "text": [
      "Enter any number: 13\n",
      "Number is a prime number.\n"
     ]
    }
   ],
   "source": [
    "# To ckeck a number is prime or not\n",
    "\n",
    "num = int (input(\"Enter any number: \"))\n",
    "\n",
    "k = 0\n",
    "for i in range(2,num):\n",
    "    if(num % i == 0):\n",
    "        k = 1\n",
    "        print(\"Number is not prime!!\")\n",
    "        break\n",
    "\n",
    "if(k == 0):\n",
    "    print(\"Number is a prime number.\")"
   ]
  },
  {
   "cell_type": "code",
   "execution_count": 18,
   "metadata": {},
   "outputs": [
    {
     "name": "stdout",
     "output_type": "stream",
     "text": [
      "Enter First Number: 12\n",
      "For Addition press 1.\n",
      "\n",
      "For Subtraction press 2.\n",
      "\n",
      "For Multiplication press 3.\n",
      "\n",
      "For Division press 4.\n",
      "Enter Condition Number: 4\n",
      "Enter Second Number: 3\n",
      "/n\n",
      "4.0\n"
     ]
    }
   ],
   "source": [
    "# Simple Calculator\n",
    "\n",
    "f_num = float (input(\"Enter First Number: \"))\n",
    "\n",
    "print(\"For Addition press 1.\")\n",
    "print(\"\\nFor Subtraction press 2.\")\n",
    "print(\"\\nFor Multiplication press 3.\")\n",
    "print(\"\\nFor Division press 4.\")\n",
    "\n",
    "condition = float (input(\"Enter Condition Number: \"))\n",
    "s_num = float (input(\"Enter Second Number: \"))\n",
    "\n",
    "print(\"/n\")\n",
    "if condition == 1:\n",
    "    print(f_num + s_num)\n",
    "elif condition == 2:\n",
    "    print(f_num - s_num)\n",
    "elif condition == 3:\n",
    "    print(f_num * s_num)\n",
    "elif condition == 4:\n",
    "    print(f_num / s_num)"
   ]
  }
 ],
 "metadata": {
  "kernelspec": {
   "display_name": "Python 3",
   "language": "python",
   "name": "python3"
  },
  "language_info": {
   "codemirror_mode": {
    "name": "ipython",
    "version": 3
   },
   "file_extension": ".py",
   "mimetype": "text/x-python",
   "name": "python",
   "nbconvert_exporter": "python",
   "pygments_lexer": "ipython3",
   "version": "3.8.5"
  }
 },
 "nbformat": 4,
 "nbformat_minor": 4
}
