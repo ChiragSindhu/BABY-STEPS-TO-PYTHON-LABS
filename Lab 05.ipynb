{
 "cells": [
  {
   "cell_type": "code",
   "execution_count": 1,
   "metadata": {},
   "outputs": [
    {
     "name": "stdout",
     "output_type": "stream",
     "text": [
      "The sum of list is :  38\n"
     ]
    }
   ],
   "source": [
    "# write a program to sum all the list item\n",
    "\n",
    "l1 = [18,10,5,5]\n",
    "\n",
    "sum = 0\n",
    "for i in l1:\n",
    "    sum = sum + i\n",
    "    \n",
    "print(\"The sum of list is : \" ,sum)"
   ]
  },
  {
   "cell_type": "code",
   "execution_count": 2,
   "metadata": {},
   "outputs": [
    {
     "name": "stdout",
     "output_type": "stream",
     "text": [
      "The answer is :  4500\n"
     ]
    }
   ],
   "source": [
    "# write a program to multiply all the list item\n",
    "\n",
    "l1 = [18,10,5,5]\n",
    "\n",
    "multiply = 1\n",
    "for i in l1:\n",
    "    multiply = multiply * i\n",
    "    \n",
    "print(\"The answer is : \" ,multiply)"
   ]
  },
  {
   "cell_type": "code",
   "execution_count": 3,
   "metadata": {},
   "outputs": [
    {
     "name": "stdout",
     "output_type": "stream",
     "text": [
      "The Largest among is :  11\n"
     ]
    }
   ],
   "source": [
    "# Find the largest element among the list\n",
    "\n",
    "l1 = [-77,0,5,5,7,-9,11]\n",
    "\n",
    "temp_largest = -9999999\n",
    "for i in l1:\n",
    "    if(temp_largest < i):\n",
    "        temp_largest = i\n",
    "        \n",
    "print(\"The Largest among is : \",temp_largest)"
   ]
  },
  {
   "cell_type": "code",
   "execution_count": 4,
   "metadata": {},
   "outputs": [
    {
     "name": "stdout",
     "output_type": "stream",
     "text": [
      "The Samllest among is :  -77\n"
     ]
    }
   ],
   "source": [
    "# Find the smallest element among the list\n",
    "\n",
    "l1 = [-77,0,5,5,7,-9,11]\n",
    "\n",
    "temp_smallest = 9999999\n",
    "for i in l1:\n",
    "    if(temp_largest > i):\n",
    "        temp_largest = i\n",
    "        \n",
    "print(\"The Samllest among is : \",temp_largest)"
   ]
  },
  {
   "cell_type": "code",
   "execution_count": 5,
   "metadata": {},
   "outputs": [
    {
     "name": "stdout",
     "output_type": "stream",
     "text": [
      "A Part\n",
      "3\n",
      "B Part\n",
      "kkk\n"
     ]
    }
   ],
   "source": [
    "# Find the number of items in list which have length equal and more than 2.\n",
    "# (A) part\n",
    "print(\"A Part\")\n",
    "\n",
    "l1 = ['cba','125','a','b','kkk']\n",
    "\n",
    "num = 0\n",
    "for i in l1:\n",
    "    if(len(i) >= 2):\n",
    "       num = num + 1\n",
    "\n",
    "print(num)\n",
    "\n",
    "# (B) part: first and last character must be same, and len more than 1\n",
    "print(\"B Part\")\n",
    "\n",
    "for j in l1:\n",
    "    if(j[0] == j[len(j) - 1] and len(j) > 1):\n",
    "        print(j)\n",
    "        \n",
    "        "
   ]
  },
  {
   "cell_type": "code",
   "execution_count": 6,
   "metadata": {},
   "outputs": [
    {
     "name": "stdout",
     "output_type": "stream",
     "text": [
      "Sorted!\n",
      "[(1, 10), (2, 8), (5, 7), (7, 3)]\n"
     ]
    }
   ],
   "source": [
    "# To sort a tuple\n",
    "\n",
    "mytup = [(1,10),(5,7),(7,3),(2,8)]\n",
    "l1 = list(mytup)\n",
    "\n",
    "print(\"Sorted!\")\n",
    "l1.sort()\n",
    "print(l1)\n"
   ]
  },
  {
   "cell_type": "code",
   "execution_count": 7,
   "metadata": {},
   "outputs": [
    {
     "name": "stdout",
     "output_type": "stream",
     "text": [
      "Duplicates are removed!\n",
      "[2, 5, 87, 7, 22]\n"
     ]
    }
   ],
   "source": [
    "# To remove duplicates from lists\n",
    "\n",
    "l1 = [2,5,87,7,5,2,22,5]\n",
    "\n",
    "anslist = []\n",
    "for items in l1:\n",
    "    if items not in anslist:\n",
    "        anslist.append(items)\n",
    "        \n",
    "print(\"Duplicates are removed!\")\n",
    "print(anslist)"
   ]
  },
  {
   "cell_type": "code",
   "execution_count": 8,
   "metadata": {},
   "outputs": [
    {
     "name": "stdout",
     "output_type": "stream",
     "text": [
      "Empty List\n"
     ]
    }
   ],
   "source": [
    "# to check a list is empty or not\n",
    "\n",
    "l1 = []\n",
    "\n",
    "if len(l1) == 0:\n",
    "    print(\"Empty List\")\n",
    "else:\n",
    "    print(\"List is not empty\")"
   ]
  },
  {
   "cell_type": "code",
   "execution_count": 9,
   "metadata": {},
   "outputs": [
    {
     "name": "stdout",
     "output_type": "stream",
     "text": [
      "['k', 'b', 'c']\n"
     ]
    }
   ],
   "source": [
    "# To clone a list\n",
    "\n",
    "l1 = ['k','b','c']\n",
    "clonelist = l1\n",
    "\n",
    "print(clonelist)"
   ]
  },
  {
   "cell_type": "code",
   "execution_count": 10,
   "metadata": {},
   "outputs": [
    {
     "name": "stdout",
     "output_type": "stream",
     "text": [
      "Enter value of n : 6\n",
      "chirag\n",
      "prajawal\n",
      "tushar\n",
      "quantum physics\n"
     ]
    }
   ],
   "source": [
    "# To make a list of items having longer than n num\n",
    "n = int(input(\"Enter value of n : \"))\n",
    "\n",
    "l1 = ['chirag','prajawal','vansh','tushar','ipc','quantum physics']\n",
    "\n",
    "for item in l1:\n",
    "    if(len(item) >= n):\n",
    "        print(item)"
   ]
  },
  {
   "cell_type": "code",
   "execution_count": null,
   "metadata": {},
   "outputs": [],
   "source": []
  }
 ],
 "metadata": {
  "kernelspec": {
   "display_name": "Python 3",
   "language": "python",
   "name": "python3"
  },
  "language_info": {
   "codemirror_mode": {
    "name": "ipython",
    "version": 3
   },
   "file_extension": ".py",
   "mimetype": "text/x-python",
   "name": "python",
   "nbconvert_exporter": "python",
   "pygments_lexer": "ipython3",
   "version": "3.8.5"
  }
 },
 "nbformat": 4,
 "nbformat_minor": 4
}
