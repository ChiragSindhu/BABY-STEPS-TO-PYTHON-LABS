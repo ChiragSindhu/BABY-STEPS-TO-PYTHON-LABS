{
 "cells": [
  {
   "cell_type": "code",
   "execution_count": 1,
   "metadata": {},
   "outputs": [],
   "source": [
    "# Write a Python program that create a class tringle and define two methods, create_triangle() and print_sides().\n",
    "\n",
    "class triangle:\n",
    "    def create_triangle(self):\n",
    "        print(\"Triangle Created!\")\n",
    "    \n",
    "    def print_sides(self):\n",
    "        print(\"This is a triangle\")"
   ]
  },
  {
   "cell_type": "code",
   "execution_count": 2,
   "metadata": {},
   "outputs": [],
   "source": [
    "# Write a Python program to create a class with two methods get_String() and print_String().\n",
    "\n",
    "class world:\n",
    "    def get_String(self):\n",
    "        print(\"Get String Function!\")\n",
    "    \n",
    "    def print_String(self):\n",
    "        print(\"Print String Function!\")"
   ]
  },
  {
   "cell_type": "code",
   "execution_count": 3,
   "metadata": {},
   "outputs": [],
   "source": [
    "# Write a Python program to create a class Rectangle that takes the parameter length and width. \n",
    "# The class should also contain a method for computing its perimeter\n",
    "\n",
    "class Rectangle:\n",
    "    def __init__(self,length,width):\n",
    "        self.length = length\n",
    "        self.width = width\n",
    "        \n",
    "    def perimeter(self):\n",
    "        return 2 * (self.length + self.width)"
   ]
  },
  {
   "cell_type": "code",
   "execution_count": 4,
   "metadata": {},
   "outputs": [],
   "source": [
    "# Write a Python program to create a class Circle that takes the parameter radius.\n",
    "# The class should also contain two methods for computing its area & perimeter respectively. \n",
    "# Use constructor to implement initialization of parameters\n",
    "\n",
    "class Circle:\n",
    "    def __init__(self,radius):\n",
    "        self.radius = radius\n",
    "    \n",
    "    def Cal_perimeter(self):\n",
    "        return 2 * 3.14 * self.radius\n",
    "    \n",
    "    def Cal_area(self):\n",
    "        return 3.14 * self.radius * self.radius"
   ]
  },
  {
   "cell_type": "code",
   "execution_count": 5,
   "metadata": {},
   "outputs": [],
   "source": [
    "# Create a Circle class and initialize it with radius.\n",
    "# Make two methods getArea and getCircumference inside this class.\n",
    "\n",
    "class Circle:\n",
    "    def __init__(self,radius):\n",
    "        self.radius = radius\n",
    "        \n",
    "    def getArea(self):\n",
    "        return 3.14 * self.radius * self.radius\n",
    "\n",
    "    def getCircumference(self):\n",
    "        return 2 * 3.14 * self.radius"
   ]
  },
  {
   "cell_type": "code",
   "execution_count": 6,
   "metadata": {},
   "outputs": [],
   "source": [
    "# Create a Temperature class. Make two methods:\n",
    "# a)\tconvertFahrenheit - It will take Celsius and will print it into Fahrenheit.\n",
    "# b)\tconvertCelsius - It will take Fahrenheit and will convert it into Celsius.\n",
    "\n",
    "class Temperature:\n",
    "    def convertFahrenheit(self,cel):\n",
    "        return (9 * cel)/5 + 32\n",
    "    \n",
    "    def convertCelsius(self,fah):\n",
    "        return (5 * fah)/9 - 32\n",
    "    "
   ]
  },
  {
   "cell_type": "code",
   "execution_count": 7,
   "metadata": {
    "scrolled": true
   },
   "outputs": [],
   "source": [
    "# Create a Student class and initialize it with name and roll number. Make methods to:\n",
    "# 1. Display - It should display all information’s of the student.\n",
    "# 2. setAge - It should assign age to student\n",
    "# 3. setMarks - It should assign marks to the student.\n",
    "\n",
    "class Student:\n",
    "    def __init__(self,name,roll):\n",
    "        self.name = name\n",
    "        self.roll = roll\n",
    "    \n",
    "    def setAge(self,age):\n",
    "        self.age = age\n",
    "    \n",
    "    def setMarks(self,marks):\n",
    "        self.marks = marks\n",
    "    \n",
    "    def Display(self):\n",
    "        print(\"Name of the Student : \",self.name)\n",
    "        print(\"Roll Number         : \",self.roll)\n",
    "        print(\"Age of the Student  : \",self.age)\n",
    "        print(\"Marks               : \",self.marks)\n",
    "\n",
    "####TEST####\n",
    "#s = Student(\"Chirag\",45)\n",
    "#s.setAge(14)\n",
    "#s.setMarks(95)\n",
    "#print(s.Display())"
   ]
  },
  {
   "cell_type": "code",
   "execution_count": 8,
   "metadata": {},
   "outputs": [],
   "source": [
    "# Write a Python class to reverse a string word by word.\n",
    "\n",
    "class reverse_String:\n",
    "    def reverse(self,string):\n",
    "        word = \"\"\n",
    "        sentence_list = []\n",
    "        for x in range(0,len(string)):\n",
    "            if string[x] == ' ':\n",
    "                sentence_list.append(word)\n",
    "                word = \"\"\n",
    "            else:\n",
    "                word = word + string[x]\n",
    "        \n",
    "        for x in range(0,len(sentence_list)):\n",
    "            word = word + ' ' + sentence_list[x]\n",
    "        \n",
    "        print(word)\n",
    "        \n",
    "            \n",
    "            ###TEST###\n",
    "#reverse_String().reverse(\"CHIRAG DevTA\")"
   ]
  }
 ],
 "metadata": {
  "kernelspec": {
   "display_name": "Python 3",
   "language": "python",
   "name": "python3"
  },
  "language_info": {
   "codemirror_mode": {
    "name": "ipython",
    "version": 3
   },
   "file_extension": ".py",
   "mimetype": "text/x-python",
   "name": "python",
   "nbconvert_exporter": "python",
   "pygments_lexer": "ipython3",
   "version": "3.8.5"
  }
 },
 "nbformat": 4,
 "nbformat_minor": 4
}
