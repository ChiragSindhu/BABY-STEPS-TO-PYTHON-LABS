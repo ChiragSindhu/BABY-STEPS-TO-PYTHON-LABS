{
 "cells": [
  {
   "cell_type": "code",
   "execution_count": 1,
   "metadata": {},
   "outputs": [],
   "source": [
    "# Create a simple dictionary\n",
    "my_dict = {}"
   ]
  },
  {
   "cell_type": "code",
   "execution_count": 2,
   "metadata": {},
   "outputs": [],
   "source": [
    "# Create a simple dictionary with custom value\n",
    "my_dict = {'A':10, 'B':20}"
   ]
  },
  {
   "cell_type": "code",
   "execution_count": 3,
   "metadata": {},
   "outputs": [],
   "source": [
    "# Create a dictionary with different datatypes for keys\n",
    "my_dict = {1:'abc', 2:12, 3:[1,2,3] ,4:12.21}"
   ]
  },
  {
   "cell_type": "code",
   "execution_count": 4,
   "metadata": {},
   "outputs": [
    {
     "name": "stdout",
     "output_type": "stream",
     "text": [
      "{1: 'abc', 2: 12, 3: [1, 2, 3], 4: 12.21}\n"
     ]
    }
   ],
   "source": [
    "# Print dictionary\n",
    "my_dict = {1:'abc', 2:12, 3:[1,2,3] ,4:12.21}\n",
    "\n",
    "print(my_dict)"
   ]
  },
  {
   "cell_type": "code",
   "execution_count": 5,
   "metadata": {},
   "outputs": [
    {
     "name": "stdout",
     "output_type": "stream",
     "text": [
      "{1: 'abc', 2: 12, 4: 12.21}\n"
     ]
    }
   ],
   "source": [
    "# Delete an Item from Dictionary\n",
    "my_dict = {1:'abc', 2:12, 3:[1,2,3] ,4:12.21}\n",
    "\n",
    "my_dict.pop(3)\n",
    "print(my_dict)"
   ]
  },
  {
   "cell_type": "code",
   "execution_count": 6,
   "metadata": {},
   "outputs": [
    {
     "name": "stdout",
     "output_type": "stream",
     "text": [
      "{}\n"
     ]
    }
   ],
   "source": [
    "# Delete full dictionary\n",
    "my_dict = {1:'abc', 2:12, 3:[1,2,3] ,4:12.21}\n",
    "\n",
    "my_dict.clear()\n",
    "print(my_dict)"
   ]
  },
  {
   "cell_type": "code",
   "execution_count": 7,
   "metadata": {},
   "outputs": [
    {
     "name": "stdout",
     "output_type": "stream",
     "text": [
      "[1, 2, 3]\n"
     ]
    }
   ],
   "source": [
    "# print a value for key\n",
    "my_dict = {1:'abc', 2:12, 3:[1,2,3] ,4:12.21}\n",
    "\n",
    "print(my_dict[3])"
   ]
  },
  {
   "cell_type": "code",
   "execution_count": 8,
   "metadata": {},
   "outputs": [
    {
     "name": "stdout",
     "output_type": "stream",
     "text": [
      "Key Not Present.\n"
     ]
    }
   ],
   "source": [
    "# To check if a key is present in a dictionay\n",
    "my_dict = {1:'abc', 2:12, 3:[1,2,3] ,4:12.21}\n",
    "\n",
    "key_to_look_up = 5\n",
    "\n",
    "if my_dict.get(key_to_look_up,-1) == -1:\n",
    "    print(\"Key Not Present.\")\n",
    "else:\n",
    "    print(\"Key Present.\")"
   ]
  },
  {
   "cell_type": "code",
   "execution_count": 9,
   "metadata": {},
   "outputs": [
    {
     "name": "stdout",
     "output_type": "stream",
     "text": [
      "{1: 'abc', 2: 12, 3: [1, 2, 3], 4: 15.1666}\n"
     ]
    }
   ],
   "source": [
    "# To update a value of a key\n",
    "my_dict = {1:'abc', 2:12, 3:[1,2,3] ,4:12.21}\n",
    "\n",
    "my_dict[4] = 15.1666\n",
    "\n",
    "print(my_dict)"
   ]
  },
  {
   "cell_type": "code",
   "execution_count": 10,
   "metadata": {},
   "outputs": [
    {
     "name": "stdout",
     "output_type": "stream",
     "text": [
      "{1: 'abc', 2: 12, 3: [1, 2, 3], 4: 12.21, 5: 'New Pair'}\n"
     ]
    }
   ],
   "source": [
    "# To add a new pair in dictionary\n",
    "my_dict = {1:'abc', 2:12, 3:[1,2,3] ,4:12.21}\n",
    "\n",
    "my_dict[5] = \"New Pair\"\n",
    "\n",
    "print(my_dict)"
   ]
  },
  {
   "cell_type": "code",
   "execution_count": 11,
   "metadata": {},
   "outputs": [
    {
     "name": "stdout",
     "output_type": "stream",
     "text": [
      "{1: 1, 10: 100}\n"
     ]
    }
   ],
   "source": [
    "# Print with values\n",
    "dict = {1:1, 10:100}\n",
    "\n",
    "print(dict)"
   ]
  },
  {
   "cell_type": "code",
   "execution_count": 12,
   "metadata": {},
   "outputs": [
    {
     "name": "stdout",
     "output_type": "stream",
     "text": [
      "{1: 12.5, 2: {'A': 'Chirag', 'B': 'Python'}, 3: 12}\n"
     ]
    }
   ],
   "source": [
    "# print nested dictioanry\n",
    "nest_dict = {1:12.5, 2:{'A':\"Chirag\",'B':\"Python\"}, 3:12}\n",
    "\n",
    "print(nest_dict)"
   ]
  },
  {
   "cell_type": "code",
   "execution_count": 13,
   "metadata": {},
   "outputs": [
    {
     "name": "stdout",
     "output_type": "stream",
     "text": [
      "{1: 10, 2: 20, 3: 30, 4: 40, 5: 50, 6: 60}\n"
     ]
    }
   ],
   "source": [
    "# Concate Three Dictionaries to make a new one\n",
    "d1 = {1:10, 2:20}\n",
    "d2 = {3:30, 4:40}\n",
    "d3 = {5:50, 6:60}\n",
    "\n",
    "d4 = d1\n",
    "\n",
    "for d in (d2, d3):\n",
    "    d4.update(d)\n",
    "\n",
    "print(d4)"
   ]
  },
  {
   "cell_type": "code",
   "execution_count": 14,
   "metadata": {},
   "outputs": [
    {
     "name": "stdout",
     "output_type": "stream",
     "text": [
      "28\n"
     ]
    }
   ],
   "source": [
    "# Find all sum of values in dictionary\n",
    "dict = {1:11,2:10,3:7}\n",
    "\n",
    "sum = 0\n",
    "for i in dict:\n",
    "    sum += dict[i]\n",
    "    \n",
    "print(sum)"
   ]
  },
  {
   "cell_type": "code",
   "execution_count": 15,
   "metadata": {},
   "outputs": [
    {
     "name": "stdout",
     "output_type": "stream",
     "text": [
      "Chirag\n"
     ]
    }
   ],
   "source": [
    "# printing element of nested dictioanry\n",
    "nest_dict = {1:12.5, 2:{'A':\"Chirag\",'B':\"Python\"}, 3:12}\n",
    "\n",
    "print(nest_dict[2]['A'])"
   ]
  },
  {
   "cell_type": "code",
   "execution_count": 16,
   "metadata": {},
   "outputs": [
    {
     "name": "stdout",
     "output_type": "stream",
     "text": [
      "{1: 1, 2: 4, 3: 9, 4: 16, 5: 25, 6: 36, 7: 49, 8: 64, 9: 81, 10: 100, 11: 121, 12: 144, 13: 169, 14: 196, 15: 225}\n"
     ]
    }
   ],
   "source": [
    "# Print a dictionary\n",
    "dict = {}\n",
    "for i in range(1,16):\n",
    "    dict[i] = i * i\n",
    "print(dict)"
   ]
  },
  {
   "cell_type": "code",
   "execution_count": 17,
   "metadata": {},
   "outputs": [
    {
     "name": "stdout",
     "output_type": "stream",
     "text": [
      "{1: 1, 2: 2, 3: 6, 4: 24, 5: 120, 6: 720, 7: 5040, 8: 40320, 9: 362880, 10: 3628800, 11: 39916800, 12: 479001600, 13: 6227020800, 14: 87178291200, 15: 1307674368000}\n"
     ]
    }
   ],
   "source": [
    "# Print a dictionary\n",
    "dict = {}\n",
    "for i in range(1,16):\n",
    "    fact = 1\n",
    "    for j in range(i,1,-1):\n",
    "        fact = fact * j\n",
    "    dict[i] = fact\n",
    "print(dict)"
   ]
  },
  {
   "cell_type": "code",
   "execution_count": null,
   "metadata": {},
   "outputs": [],
   "source": []
  }
 ],
 "metadata": {
  "kernelspec": {
   "display_name": "Python 3",
   "language": "python",
   "name": "python3"
  },
  "language_info": {
   "codemirror_mode": {
    "name": "ipython",
    "version": 3
   },
   "file_extension": ".py",
   "mimetype": "text/x-python",
   "name": "python",
   "nbconvert_exporter": "python",
   "pygments_lexer": "ipython3",
   "version": "3.8.5"
  }
 },
 "nbformat": 4,
 "nbformat_minor": 4
}
