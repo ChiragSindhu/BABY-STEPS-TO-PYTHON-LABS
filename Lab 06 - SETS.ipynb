{
 "cells": [
  {
   "cell_type": "code",
   "execution_count": 1,
   "metadata": {},
   "outputs": [],
   "source": [
    "# Write a prpgram to create a set\n",
    "set1 = {1,2,3}"
   ]
  },
  {
   "cell_type": "code",
   "execution_count": 2,
   "metadata": {},
   "outputs": [],
   "source": [
    "# Write a program to add aan element to set\n",
    "set1 = {1,2,4}\n",
    "set1.add(3)\n",
    "\n",
    "print(set1)"
   ]
  },
  {
   "cell_type": "code",
   "execution_count": 3,
   "metadata": {},
   "outputs": [],
   "source": [
    "# Write a program to add multiple items using update function\n",
    "setx = {1,2,3}\n",
    "sety = {3,4,5,6}\n",
    "\n",
    "setx.update(sety)\n",
    "\n",
    "print(setx)"
   ]
  },
  {
   "cell_type": "code",
   "execution_count": 6,
   "metadata": {},
   "outputs": [
    {
     "name": "stdout",
     "output_type": "stream",
     "text": [
      "3\n"
     ]
    }
   ],
   "source": [
    "# Write a program to find length of a set\n",
    "setx = {1,2,3}\n",
    "print(len(setx))"
   ]
  },
  {
   "cell_type": "code",
   "execution_count": 8,
   "metadata": {},
   "outputs": [
    {
     "name": "stdout",
     "output_type": "stream",
     "text": [
      "{1, 2, 4}\n"
     ]
    }
   ],
   "source": [
    "# Write a program to remove value from a set\n",
    "setx = {1,2,3,4}\n",
    "setx.remove(3)\n",
    "print(setx)"
   ]
  },
  {
   "cell_type": "code",
   "execution_count": 9,
   "metadata": {},
   "outputs": [
    {
     "name": "stdout",
     "output_type": "stream",
     "text": [
      "{2, 3, 4}\n"
     ]
    }
   ],
   "source": [
    "# Write a program to pop value from a set\n",
    "setx = {1,2,3,4}\n",
    "setx.pop()\n",
    "print(setx)"
   ]
  },
  {
   "cell_type": "code",
   "execution_count": 10,
   "metadata": {},
   "outputs": [
    {
     "name": "stdout",
     "output_type": "stream",
     "text": [
      "{1, 2, 3, 4, 5, 6}\n"
     ]
    }
   ],
   "source": [
    "# write a program to update a set\n",
    "setx = {1,2,3}\n",
    "sety = {3,4,5,6}\n",
    "\n",
    "setx.update(sety)\n",
    "\n",
    "print(setx)"
   ]
  },
  {
   "cell_type": "code",
   "execution_count": 11,
   "metadata": {},
   "outputs": [
    {
     "name": "stdout",
     "output_type": "stream",
     "text": [
      "{'blue'}\n"
     ]
    }
   ],
   "source": [
    "# write a program to create an intersection of sets\n",
    "setx = set([\"green\", \"blue\"])\n",
    "sety = set([\"blue\", \"yellow\"])\n",
    "setz = setx & sety\n",
    "print(setz)"
   ]
  },
  {
   "cell_type": "code",
   "execution_count": 12,
   "metadata": {},
   "outputs": [
    {
     "name": "stdout",
     "output_type": "stream",
     "text": [
      "{'blue', 'yellow', 'green'}\n"
     ]
    }
   ],
   "source": [
    "# Write a program to create a union of sets\n",
    "setx = set([\"green\", \"blue\"])\n",
    "sety = set([\"blue\", \"yellow\"])\n",
    "seta = setx | sety\n",
    "print(seta)"
   ]
  },
  {
   "cell_type": "code",
   "execution_count": 19,
   "metadata": {},
   "outputs": [
    {
     "name": "stdout",
     "output_type": "stream",
     "text": [
      "A is a subset of B\n"
     ]
    }
   ],
   "source": [
    "# Write a python program to issubset and isupperset\n",
    "A = {1,2,3}\n",
    "B = {-1,0,1,2,3,4,5}\n",
    "\n",
    "if A.issuperset(B):\n",
    "    print(\"A is a Supperset of B\")\n",
    "elif A.issubset(B):\n",
    "    print(\"A is a subset of B\")"
   ]
  },
  {
   "cell_type": "code",
   "execution_count": 20,
   "metadata": {},
   "outputs": [
    {
     "name": "stdout",
     "output_type": "stream",
     "text": [
      "{'mango'}\n",
      "{'apple'}\n"
     ]
    }
   ],
   "source": [
    "# Write a program to create set difference\n",
    "setx = set([\"apple\", \"mango\"])\n",
    "sety = set([\"mango\", \"orange\"])\n",
    "setz = setx & sety\n",
    "print(setz)\n",
    "#Set difference\n",
    "setb = setx - setz\n",
    "print(setb)"
   ]
  },
  {
   "cell_type": "code",
   "execution_count": null,
   "metadata": {},
   "outputs": [],
   "source": [
    "# Write a program to create a symmetric set difference"
   ]
  }
 ],
 "metadata": {
  "kernelspec": {
   "display_name": "Python 3",
   "language": "python",
   "name": "python3"
  },
  "language_info": {
   "codemirror_mode": {
    "name": "ipython",
    "version": 3
   },
   "file_extension": ".py",
   "mimetype": "text/x-python",
   "name": "python",
   "nbconvert_exporter": "python",
   "pygments_lexer": "ipython3",
   "version": "3.8.5"
  }
 },
 "nbformat": 4,
 "nbformat_minor": 4
}
